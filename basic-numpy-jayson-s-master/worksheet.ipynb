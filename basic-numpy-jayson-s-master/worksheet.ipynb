{
 "cells": [
  {
   "cell_type": "markdown",
   "metadata": {},
   "source": [
    "# Data analysis using Numpy"
   ]
  },
  {
   "cell_type": "code",
   "execution_count": 1,
   "metadata": {},
   "outputs": [],
   "source": [
    "import numpy as np\n",
    "import sklearn.datasets as datasets"
   ]
  },
  {
   "cell_type": "code",
   "execution_count": 2,
   "metadata": {},
   "outputs": [],
   "source": [
    "data = datasets.load_iris().data"
   ]
  },
  {
   "cell_type": "markdown",
   "metadata": {},
   "source": [
    "# About the data set\n",
    "\n",
    "The variable `data` is a numpy array with 150 measurements of samples of flowers.  Each sample has 4 measurements for the sepal length, sepal width, petal length and petal width.  All measurements are done in cm."
   ]
  },
  {
   "cell_type": "code",
   "execution_count": 3,
   "metadata": {},
   "outputs": [
    {
     "data": {
      "text/plain": [
       "array([[5.1, 3.5, 1.4, 0.2],\n",
       "       [4.9, 3. , 1.4, 0.2],\n",
       "       [4.7, 3.2, 1.3, 0.2],\n",
       "       [4.6, 3.1, 1.5, 0.2],\n",
       "       [5. , 3.6, 1.4, 0.2],\n",
       "       [5.4, 3.9, 1.7, 0.4],\n",
       "       [4.6, 3.4, 1.4, 0.3],\n",
       "       [5. , 3.4, 1.5, 0.2],\n",
       "       [4.4, 2.9, 1.4, 0.2],\n",
       "       [4.9, 3.1, 1.5, 0.1]])"
      ]
     },
     "execution_count": 3,
     "metadata": {},
     "output_type": "execute_result"
    }
   ],
   "source": [
    "# Here is a sample of the measurements:\n",
    "\n",
    "data[:10]"
   ]
  },
  {
   "cell_type": "markdown",
   "metadata": {},
   "source": [
    "# ✎ Shape of data\n",
    "\n",
    "Implement a function that returns the shape of the numpy array as a tuple."
   ]
  },
  {
   "cell_type": "code",
   "execution_count": 4,
   "metadata": {},
   "outputs": [],
   "source": [
    "def get_data_shape():\n",
    "    return (np.array(data))"
   ]
  },
  {
   "cell_type": "markdown",
   "metadata": {},
   "source": [
    "# ✎ last few samples\n",
    "\n",
    "Implement a function that returns the last _n_ samples.\n",
    "\n",
    "Parameter:\n",
    "\n",
    "- `n`: the number of samples to return from the _end_ of data\n",
    "\n",
    "Returns:\n",
    "\n",
    "- A numpy array of shape `(n, 4)`"
   ]
  },
  {
   "cell_type": "code",
   "execution_count": 5,
   "metadata": {},
   "outputs": [],
   "source": [
    "def get_last_samples(n):\n",
    "    data.reshape(n, 4)\n",
    "    pass"
   ]
  },
  {
   "cell_type": "markdown",
   "metadata": {},
   "source": [
    "# ✎ Sepal width\n",
    "\n",
    "Implement a function to return the sepal width for all the\n",
    "flowers.  This should be the second column of the data array.\n",
    "Remember the array indices start with 0.\n",
    "\n",
    "Parameter: none\n",
    "\n",
    "Returns:\n",
    "- A numpy array of shape `(n)`."
   ]
  },
  {
   "cell_type": "code",
   "execution_count": 6,
   "metadata": {},
   "outputs": [],
   "source": [
    "def get_sepal_width():\n",
    "    return data[:, 1]"
   ]
  },
  {
   "cell_type": "markdown",
   "metadata": {},
   "source": [
    "# ✎ Petal area\n",
    "\n",
    "Implement a function to compute the area of the petals.  We approximate the shape of a petal as a rectangle, so the area is computed as its width times length.\n",
    "\n",
    "Parameter: none\n",
    "\n",
    "Returns:\n",
    "\n",
    "- A numpy array of shape `(n)`."
   ]
  },
  {
   "cell_type": "code",
   "execution_count": 7,
   "metadata": {},
   "outputs": [],
   "source": [
    "def get_petal_area():\n",
    "    area = (data[:, 2] * data[:, 3])\n",
    "    return (np.array(area))"
   ]
  },
  {
   "cell_type": "markdown",
   "metadata": {},
   "source": [
    "# ✎ Samples in top percentile\n",
    "\n",
    "Implement a function that returns the __samples__ in the top `p` percentile as measured by their petal sizes.\n",
    "\n",
    "Parameters:\n",
    "\n",
    "- `p`: the percentile between 0 and 100\n",
    "\n",
    "Returns:\n",
    "- A numpy array of shape `(k, 4)` where `k` is some integer corresponding to the number of samples"
   ]
  },
  {
   "cell_type": "code",
   "execution_count": 8,
   "metadata": {},
   "outputs": [],
   "source": [
    "def get_samples_top_percentile_by_petal_area(p):\n",
    "    flower_areas = get_petal_area()\n",
    "    area_cutoff = np.percentile(flower_areas, p)        \n",
    "    top_areas = [x for x in data if (x[2] * x[3] >= area_cutoff)]\n",
    "    return (np.array(top_areas))"
   ]
  },
  {
   "cell_type": "markdown",
   "metadata": {},
   "source": [
    "# ✎ Samples in __bottom__ percentile\n",
    "\n",
    "Implement a function that returns the __samples__ in the __bottom__ `p` percentile as measured by their petal sizes.\n",
    "\n",
    "Parameters:\n",
    "\n",
    "- `p`: the percentile between 0 and 100\n",
    "\n",
    "Returns:\n",
    "- A numpy array of shape `(k, 4)` where `k` is some integer corresponding to the number of samples"
   ]
  },
  {
   "cell_type": "code",
   "execution_count": 9,
   "metadata": {},
   "outputs": [],
   "source": [
    "def get_samples_bottom_percentile_by_petal_area(p):\n",
    "    flower_areas = get_petal_area()\n",
    "    area_cutoff = np.percentile(flower_areas, p)        \n",
    "    bottom_areas = [x for x in data if (x[2] * x[3] <= area_cutoff)]\n",
    "    return (np.array(bottom_areas))"
   ]
  },
  {
   "cell_type": "markdown",
   "metadata": {},
   "source": [
    "# Test your code before submitting"
   ]
  },
  {
   "cell_type": "code",
   "execution_count": null,
   "metadata": {},
   "outputs": [],
   "source": [
    "get_petal_area().shape"
   ]
  },
  {
   "cell_type": "code",
   "execution_count": null,
   "metadata": {},
   "outputs": [],
   "source": []
  }
 ],
 "metadata": {
  "kernelspec": {
   "display_name": "Python 3",
   "language": "python",
   "name": "python3"
  },
  "language_info": {
   "codemirror_mode": {
    "name": "ipython",
    "version": 3
   },
   "file_extension": ".py",
   "mimetype": "text/x-python",
   "name": "python",
   "nbconvert_exporter": "python",
   "pygments_lexer": "ipython3",
   "version": "3.5.2"
  }
 },
 "nbformat": 4,
 "nbformat_minor": 4
}
